{
  "nbformat": 4,
  "nbformat_minor": 0,
  "metadata": {
    "colab": {
      "name": "PYIMAGESERACH: How do we know it's a facemask? What is happening here?",
      "provenance": [],
      "authorship_tag": "ABX9TyPVpr9gMoYWhuVe3gupvCiY",
      "include_colab_link": true
    },
    "kernelspec": {
      "name": "python3",
      "display_name": "Python 3"
    }
  },
  "cells": [
    {
      "cell_type": "markdown",
      "metadata": {
        "id": "view-in-github",
        "colab_type": "text"
      },
      "source": [
        "<a href=\"https://colab.research.google.com/github/ricklon/pyimagesearch-face-mask-detector/blob/master/PYIMAGESERACH_How_do_we_know_it's_a_facemask%3F_What_is_happening_here%3F.ipynb\" target=\"_parent\"><img src=\"https://colab.research.google.com/assets/colab-badge.svg\" alt=\"Open In Colab\"/></a>"
      ]
    },
    {
      "cell_type": "markdown",
      "metadata": {
        "id": "KHG4nLcuzf7v",
        "colab_type": "text"
      },
      "source": [
        "#PYIMAGESERACH: How do we know it's a facemask? What is happening here?\n"
      ]
    },
    {
      "cell_type": "code",
      "metadata": {
        "id": "c87ohqaFzWgr",
        "colab_type": "code",
        "colab": {}
      },
      "source": [
        ""
      ],
      "execution_count": null,
      "outputs": []
    }
  ]
}